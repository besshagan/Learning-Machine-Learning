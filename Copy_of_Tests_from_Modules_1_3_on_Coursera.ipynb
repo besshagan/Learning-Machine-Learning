{
  "nbformat": 4,
  "nbformat_minor": 0,
  "metadata": {
    "colab": {
      "provenance": [],
      "authorship_tag": "ABX9TyPl6Ly5teIr/A8C++zPNawK",
      "include_colab_link": true
    },
    "kernelspec": {
      "name": "python3",
      "display_name": "Python 3"
    },
    "language_info": {
      "name": "python"
    }
  },
  "cells": [
    {
      "cell_type": "markdown",
      "metadata": {
        "id": "view-in-github",
        "colab_type": "text"
      },
      "source": [
        "<a href=\"https://colab.research.google.com/github/besshagan/Learning-Machine-Learning/blob/main/Copy_of_Tests_from_Modules_1_3_on_Coursera.ipynb\" target=\"_parent\"><img src=\"https://colab.research.google.com/assets/colab-badge.svg\" alt=\"Open In Colab\"/></a>"
      ]
    },
    {
      "cell_type": "code",
      "execution_count": null,
      "metadata": {
        "colab": {
          "base_uri": "https://localhost:8080/"
        },
        "id": "ucN9c86qEznL",
        "outputId": "fdd7df0d-4944-4939-dce4-c7069dbda55f"
      },
      "outputs": [
        {
          "output_type": "stream",
          "name": "stdout",
          "text": [
            "0\n",
            "5\n",
            "10\n",
            "15\n"
          ]
        }
      ],
      "source": [
        "countByFive = range(0,16,5)\n",
        "for number in countByFive:\n",
        "    print(number)"
      ]
    },
    {
      "cell_type": "code",
      "source": [
        "squares = ['red', 'yellow', 'green', 'purple', 'blue']\n",
        "for i in range(0,5):\n",
        "  print(f\"{i}, {squares[i]} turning white!\")\n",
        "  squares[i] = 'white'\n",
        "\n",
        "for index, color in enumerate(squares):\n",
        "  print('square', index, 'is', color)"
      ],
      "metadata": {
        "colab": {
          "base_uri": "https://localhost:8080/"
        },
        "id": "dd8pDgn7Fgp_",
        "outputId": "4f4c1ddd-b621-424a-8b48-2343b0a798ad"
      },
      "execution_count": null,
      "outputs": [
        {
          "output_type": "stream",
          "name": "stdout",
          "text": [
            "0, red turning white!\n",
            "1, yellow turning white!\n",
            "2, green turning white!\n",
            "3, purple turning white!\n",
            "4, blue turning white!\n",
            "square 0 is white\n",
            "square 1 is white\n",
            "square 2 is white\n",
            "square 3 is white\n",
            "square 4 is white\n"
          ]
        }
      ]
    },
    {
      "cell_type": "code",
      "source": [],
      "metadata": {
        "id": "G9UUXk8UHQdD"
      },
      "execution_count": null,
      "outputs": []
    },
    {
      "cell_type": "code",
      "source": [
        "def add1(a):\n",
        "  \"\"\"\n",
        "  add 1 to a\n",
        "  \"\"\"\n",
        "  return a + 1\n",
        "\n",
        "a=5\n",
        "print(0, a)\n",
        "\n",
        "for i in range(0,5):\n",
        "  a = add1(a)\n",
        "  print(add1(i), a)"
      ],
      "metadata": {
        "colab": {
          "base_uri": "https://localhost:8080/"
        },
        "id": "uKAiAMVgK-j6",
        "outputId": "aafb1073-dada-4ea8-8894-ca84055ec350"
      },
      "execution_count": null,
      "outputs": [
        {
          "output_type": "stream",
          "name": "stdout",
          "text": [
            "0 5\n",
            "1 6\n",
            "2 7\n",
            "3 8\n",
            "4 9\n",
            "5 10\n"
          ]
        }
      ]
    },
    {
      "cell_type": "code",
      "source": [
        "import matplotlib.pyplot as plt\n",
        "\n",
        "class Circle(object):\n",
        "  def __init__(self, radius, color):\n",
        "    self.radius = radius\n",
        "    self.color = color\n",
        "\n",
        "  def add_radius(self, r):\n",
        "    self.radius = self.radius + r\n",
        "    return(self.radius)\n",
        "\n",
        "  def change_color(self, color):\n",
        "    self.color = color\n",
        "    return(self.color)\n",
        "\n",
        "  def area(self):\n",
        "    return(self.radius * self.radius * 3.14)\n",
        "\n",
        "  def drawCircle(self):\n",
        "    plt.gca().add_patch(plt.Circle((0, 0), radius=self.radius, fc=self.color))\n",
        "    plt.axis('scaled')\n",
        "    plt.show()\n",
        "\n",
        "RedCircle = Circle(10, 'red')\n",
        "print(RedCircle.radius)\n",
        "print(RedCircle.color)\n",
        "print(RedCircle.area())\n",
        "print(RedCircle)\n",
        "print(type(RedCircle))\n",
        "RedCircle.change_color('blue')\n",
        "print(RedCircle.color)\n",
        "q = RedCircle.add_radius(1)\n",
        "print(RedCircle.radius)\n",
        "RedCircle.area()\n",
        "RedCircle.drawCircle()"
      ],
      "metadata": {
        "colab": {
          "base_uri": "https://localhost:8080/",
          "height": 552
        },
        "id": "nX7S_YZxTkh5",
        "outputId": "4c9dc45a-1c17-4fc8-c9d9-6c9d4bc486c5"
      },
      "execution_count": null,
      "outputs": [
        {
          "output_type": "stream",
          "name": "stdout",
          "text": [
            "10\n",
            "red\n",
            "314.0\n",
            "<__main__.Circle object at 0x7a8e6f642c20>\n",
            "<class '__main__.Circle'>\n",
            "blue\n",
            "11\n"
          ]
        },
        {
          "output_type": "display_data",
          "data": {
            "text/plain": [
              "<Figure size 640x480 with 1 Axes>"
            ],
            "image/png": "[encoded data removed]"
          },
          "metadata": {}
        }
      ]
    }
  ]
}